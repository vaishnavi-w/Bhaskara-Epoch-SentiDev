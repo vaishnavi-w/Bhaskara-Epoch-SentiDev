{
  "nbformat": 4,
  "nbformat_minor": 0,
  "metadata": {
    "colab": {
      "provenance": []
    },
    "kernelspec": {
      "name": "python3",
      "display_name": "Python 3"
    },
    "language_info": {
      "name": "python"
    }
  },
  "cells": [
    {
      "cell_type": "code",
      "source": [
        "#Importing all the required libraries\n",
        "import numpy as np\n",
        "import pandas as pd #For loading and handling dataset\n",
        "import re\n",
        "from string import punctuation\n",
        "import nltk #for nlp\n",
        "from nltk.corpus import stopwords # for the collection of stopping words\n",
        "nltk.download('stopwords')\n",
        "from sklearn.model_selection import train_test_split #for splitting the data into training and testing\n",
        "from tensorflow import keras\n",
        "from keras.preprocessing.text import Tokenizer #To encode the text into integer array\n",
        "from keras.preprocessing.sequence import pad_sequences #Helps in padding and truncating the sequence\n",
        "import matplotlib.pyplot as plt #For plotting graphs\n",
        "from keras.models import Sequential, load_model #We are using sequential model and we'll also load(call) the saved model\n",
        "from keras.layers import Dense, LSTM, Embedding, Dropout #Layers in RNN architecture\n",
        "from keras.callbacks import ModelCheckpoint #Helps to save the model\n",
        "from string import punctuation\n",
        "from nltk.corpus import stopwords\n",
        "from tensorflow.keras.preprocessing.text import Tokenizer\n",
        "from tensorflow.keras.preprocessing.sequence import pad_sequences\n",
        "from keras.models import load_model"
      ],
      "metadata": {
        "colab": {
          "base_uri": "https://localhost:8080/"
        },
        "id": "cGH9kEggwm3H",
        "outputId": "fdce0ceb-ccf8-42ce-d2db-96a3e7990184"
      },
      "execution_count": 1,
      "outputs": [
        {
          "output_type": "stream",
          "name": "stderr",
          "text": [
            "[nltk_data] Downloading package stopwords to /root/nltk_data...\n",
            "[nltk_data]   Unzipping corpora/stopwords.zip.\n"
          ]
        }
      ]
    },
    {
      "cell_type": "code",
      "source": [
        "dataset = pd.read_csv('/content/IMDB Dataset.csv')\n",
        "print(dataset.tail())#Previews the data with first five rows\n",
        "dataset.describe() #Shows the statistical analysis"
      ],
      "metadata": {
        "colab": {
          "base_uri": "https://localhost:8080/",
          "height": 279
        },
        "id": "ZLizZjyDwo7I",
        "outputId": "7af7a87a-9429-499d-a786-4b417efd6091"
      },
      "execution_count": 31,
      "outputs": [
        {
          "output_type": "stream",
          "name": "stdout",
          "text": [
            "                                                  review sentiment\n",
            "49995  I thought this movie did a down right good job...  positive\n",
            "49996  Bad plot, bad dialogue, bad acting, idiotic di...  negative\n",
            "49997  I am a Catholic taught in parochial elementary...  negative\n",
            "49998  I'm going to have to disagree with the previou...  negative\n",
            "49999  No one expects the Star Trek movies to be high...  negative\n"
          ]
        },
        {
          "output_type": "execute_result",
          "data": {
            "text/plain": [
              "                                                   review sentiment\n",
              "count                                               50000     50000\n",
              "unique                                              49582         2\n",
              "top     Loved today's show!!! It was a variety and not...  positive\n",
              "freq                                                    5     25000"
            ],
            "text/html": [
              "\n",
              "  <div id=\"df-33c02c5e-4623-4c3c-b74a-3d2429efd885\" class=\"colab-df-container\">\n",
              "    <div>\n",
              "<style scoped>\n",
              "    .dataframe tbody tr th:only-of-type {\n",
              "        vertical-align: middle;\n",
              "    }\n",
              "\n",
              "    .dataframe tbody tr th {\n",
              "        vertical-align: top;\n",
              "    }\n",
              "\n",
              "    .dataframe thead th {\n",
              "        text-align: right;\n",
              "    }\n",
              "</style>\n",
              "<table border=\"1\" class=\"dataframe\">\n",
              "  <thead>\n",
              "    <tr style=\"text-align: right;\">\n",
              "      <th></th>\n",
              "      <th>review</th>\n",
              "      <th>sentiment</th>\n",
              "    </tr>\n",
              "  </thead>\n",
              "  <tbody>\n",
              "    <tr>\n",
              "      <th>count</th>\n",
              "      <td>50000</td>\n",
              "      <td>50000</td>\n",
              "    </tr>\n",
              "    <tr>\n",
              "      <th>unique</th>\n",
              "      <td>49582</td>\n",
              "      <td>2</td>\n",
              "    </tr>\n",
              "    <tr>\n",
              "      <th>top</th>\n",
              "      <td>Loved today's show!!! It was a variety and not...</td>\n",
              "      <td>positive</td>\n",
              "    </tr>\n",
              "    <tr>\n",
              "      <th>freq</th>\n",
              "      <td>5</td>\n",
              "      <td>25000</td>\n",
              "    </tr>\n",
              "  </tbody>\n",
              "</table>\n",
              "</div>\n",
              "    <div class=\"colab-df-buttons\">\n",
              "\n",
              "  <div class=\"colab-df-container\">\n",
              "    <button class=\"colab-df-convert\" onclick=\"convertToInteractive('df-33c02c5e-4623-4c3c-b74a-3d2429efd885')\"\n",
              "            title=\"Convert this dataframe to an interactive table.\"\n",
              "            style=\"display:none;\">\n",
              "\n",
              "  <svg xmlns=\"http://www.w3.org/2000/svg\" height=\"24px\" viewBox=\"0 -960 960 960\">\n",
              "    <path d=\"M120-120v-720h720v720H120Zm60-500h600v-160H180v160Zm220 220h160v-160H400v160Zm0 220h160v-160H400v160ZM180-400h160v-160H180v160Zm440 0h160v-160H620v160ZM180-180h160v-160H180v160Zm440 0h160v-160H620v160Z\"/>\n",
              "  </svg>\n",
              "    </button>\n",
              "\n",
              "  <style>\n",
              "    .colab-df-container {\n",
              "      display:flex;\n",
              "      gap: 12px;\n",
              "    }\n",
              "\n",
              "    .colab-df-convert {\n",
              "      background-color: #E8F0FE;\n",
              "      border: none;\n",
              "      border-radius: 50%;\n",
              "      cursor: pointer;\n",
              "      display: none;\n",
              "      fill: #1967D2;\n",
              "      height: 32px;\n",
              "      padding: 0 0 0 0;\n",
              "      width: 32px;\n",
              "    }\n",
              "\n",
              "    .colab-df-convert:hover {\n",
              "      background-color: #E2EBFA;\n",
              "      box-shadow: 0px 1px 2px rgba(60, 64, 67, 0.3), 0px 1px 3px 1px rgba(60, 64, 67, 0.15);\n",
              "      fill: #174EA6;\n",
              "    }\n",
              "\n",
              "    .colab-df-buttons div {\n",
              "      margin-bottom: 4px;\n",
              "    }\n",
              "\n",
              "    [theme=dark] .colab-df-convert {\n",
              "      background-color: #3B4455;\n",
              "      fill: #D2E3FC;\n",
              "    }\n",
              "\n",
              "    [theme=dark] .colab-df-convert:hover {\n",
              "      background-color: #434B5C;\n",
              "      box-shadow: 0px 1px 3px 1px rgba(0, 0, 0, 0.15);\n",
              "      filter: drop-shadow(0px 1px 2px rgba(0, 0, 0, 0.3));\n",
              "      fill: #FFFFFF;\n",
              "    }\n",
              "  </style>\n",
              "\n",
              "    <script>\n",
              "      const buttonEl =\n",
              "        document.querySelector('#df-33c02c5e-4623-4c3c-b74a-3d2429efd885 button.colab-df-convert');\n",
              "      buttonEl.style.display =\n",
              "        google.colab.kernel.accessAllowed ? 'block' : 'none';\n",
              "\n",
              "      async function convertToInteractive(key) {\n",
              "        const element = document.querySelector('#df-33c02c5e-4623-4c3c-b74a-3d2429efd885');\n",
              "        const dataTable =\n",
              "          await google.colab.kernel.invokeFunction('convertToInteractive',\n",
              "                                                    [key], {});\n",
              "        if (!dataTable) return;\n",
              "\n",
              "        const docLinkHtml = 'Like what you see? Visit the ' +\n",
              "          '<a target=\"_blank\" href=https://colab.research.google.com/notebooks/data_table.ipynb>data table notebook</a>'\n",
              "          + ' to learn more about interactive tables.';\n",
              "        element.innerHTML = '';\n",
              "        dataTable['output_type'] = 'display_data';\n",
              "        await google.colab.output.renderOutput(dataTable, element);\n",
              "        const docLink = document.createElement('div');\n",
              "        docLink.innerHTML = docLinkHtml;\n",
              "        element.appendChild(docLink);\n",
              "      }\n",
              "    </script>\n",
              "  </div>\n",
              "\n",
              "\n",
              "<div id=\"df-9193e12f-3421-41c4-b012-f1608917c785\">\n",
              "  <button class=\"colab-df-quickchart\" onclick=\"quickchart('df-9193e12f-3421-41c4-b012-f1608917c785')\"\n",
              "            title=\"Suggest charts.\"\n",
              "            style=\"display:none;\">\n",
              "\n",
              "<svg xmlns=\"http://www.w3.org/2000/svg\" height=\"24px\"viewBox=\"0 0 24 24\"\n",
              "     width=\"24px\">\n",
              "    <g>\n",
              "        <path d=\"M19 3H5c-1.1 0-2 .9-2 2v14c0 1.1.9 2 2 2h14c1.1 0 2-.9 2-2V5c0-1.1-.9-2-2-2zM9 17H7v-7h2v7zm4 0h-2V7h2v10zm4 0h-2v-4h2v4z\"/>\n",
              "    </g>\n",
              "</svg>\n",
              "  </button>\n",
              "\n",
              "<style>\n",
              "  .colab-df-quickchart {\n",
              "      --bg-color: #E8F0FE;\n",
              "      --fill-color: #1967D2;\n",
              "      --hover-bg-color: #E2EBFA;\n",
              "      --hover-fill-color: #174EA6;\n",
              "      --disabled-fill-color: #AAA;\n",
              "      --disabled-bg-color: #DDD;\n",
              "  }\n",
              "\n",
              "  [theme=dark] .colab-df-quickchart {\n",
              "      --bg-color: #3B4455;\n",
              "      --fill-color: #D2E3FC;\n",
              "      --hover-bg-color: #434B5C;\n",
              "      --hover-fill-color: #FFFFFF;\n",
              "      --disabled-bg-color: #3B4455;\n",
              "      --disabled-fill-color: #666;\n",
              "  }\n",
              "\n",
              "  .colab-df-quickchart {\n",
              "    background-color: var(--bg-color);\n",
              "    border: none;\n",
              "    border-radius: 50%;\n",
              "    cursor: pointer;\n",
              "    display: none;\n",
              "    fill: var(--fill-color);\n",
              "    height: 32px;\n",
              "    padding: 0;\n",
              "    width: 32px;\n",
              "  }\n",
              "\n",
              "  .colab-df-quickchart:hover {\n",
              "    background-color: var(--hover-bg-color);\n",
              "    box-shadow: 0 1px 2px rgba(60, 64, 67, 0.3), 0 1px 3px 1px rgba(60, 64, 67, 0.15);\n",
              "    fill: var(--button-hover-fill-color);\n",
              "  }\n",
              "\n",
              "  .colab-df-quickchart-complete:disabled,\n",
              "  .colab-df-quickchart-complete:disabled:hover {\n",
              "    background-color: var(--disabled-bg-color);\n",
              "    fill: var(--disabled-fill-color);\n",
              "    box-shadow: none;\n",
              "  }\n",
              "\n",
              "  .colab-df-spinner {\n",
              "    border: 2px solid var(--fill-color);\n",
              "    border-color: transparent;\n",
              "    border-bottom-color: var(--fill-color);\n",
              "    animation:\n",
              "      spin 1s steps(1) infinite;\n",
              "  }\n",
              "\n",
              "  @keyframes spin {\n",
              "    0% {\n",
              "      border-color: transparent;\n",
              "      border-bottom-color: var(--fill-color);\n",
              "      border-left-color: var(--fill-color);\n",
              "    }\n",
              "    20% {\n",
              "      border-color: transparent;\n",
              "      border-left-color: var(--fill-color);\n",
              "      border-top-color: var(--fill-color);\n",
              "    }\n",
              "    30% {\n",
              "      border-color: transparent;\n",
              "      border-left-color: var(--fill-color);\n",
              "      border-top-color: var(--fill-color);\n",
              "      border-right-color: var(--fill-color);\n",
              "    }\n",
              "    40% {\n",
              "      border-color: transparent;\n",
              "      border-right-color: var(--fill-color);\n",
              "      border-top-color: var(--fill-color);\n",
              "    }\n",
              "    60% {\n",
              "      border-color: transparent;\n",
              "      border-right-color: var(--fill-color);\n",
              "    }\n",
              "    80% {\n",
              "      border-color: transparent;\n",
              "      border-right-color: var(--fill-color);\n",
              "      border-bottom-color: var(--fill-color);\n",
              "    }\n",
              "    90% {\n",
              "      border-color: transparent;\n",
              "      border-bottom-color: var(--fill-color);\n",
              "    }\n",
              "  }\n",
              "</style>\n",
              "\n",
              "  <script>\n",
              "    async function quickchart(key) {\n",
              "      const quickchartButtonEl =\n",
              "        document.querySelector('#' + key + ' button');\n",
              "      quickchartButtonEl.disabled = true;  // To prevent multiple clicks.\n",
              "      quickchartButtonEl.classList.add('colab-df-spinner');\n",
              "      try {\n",
              "        const charts = await google.colab.kernel.invokeFunction(\n",
              "            'suggestCharts', [key], {});\n",
              "      } catch (error) {\n",
              "        console.error('Error during call to suggestCharts:', error);\n",
              "      }\n",
              "      quickchartButtonEl.classList.remove('colab-df-spinner');\n",
              "      quickchartButtonEl.classList.add('colab-df-quickchart-complete');\n",
              "    }\n",
              "    (() => {\n",
              "      let quickchartButtonEl =\n",
              "        document.querySelector('#df-9193e12f-3421-41c4-b012-f1608917c785 button');\n",
              "      quickchartButtonEl.style.display =\n",
              "        google.colab.kernel.accessAllowed ? 'block' : 'none';\n",
              "    })();\n",
              "  </script>\n",
              "</div>\n",
              "    </div>\n",
              "  </div>\n"
            ]
          },
          "metadata": {},
          "execution_count": 31
        }
      ]
    },
    {
      "cell_type": "code",
      "source": [
        "from sklearn.preprocessing import LabelEncoder\n",
        "le = LabelEncoder()\n",
        "dataset['sentiment'] = le.fit_transform(dataset['sentiment'])"
      ],
      "metadata": {
        "id": "DIdpOaylzwLP"
      },
      "execution_count": 32,
      "outputs": []
    },
    {
      "cell_type": "code",
      "source": [
        "stop_words = stopwords.words('english')#creating a list of stop words\n",
        "\n",
        "\n",
        "def training_samples():\n",
        "  input_data=dataset['review']\n",
        "  output_data=dataset['sentiment']\n",
        "  #pre-processing data\n",
        "  input_data=input_data.apply(lambda x: x.lower())#making the words lowercase\n",
        "  input_data = input_data.apply(lambda x:''.join([c for c in x if c not in punctuation]))#removing characters\n",
        "  input_data=input_data.apply(lambda x : [i for i in x.split() if i not in stop_words]) #removing stopwords\n",
        "\n",
        "  return input_data, output_data\n",
        "\n",
        "\n",
        "\n",
        "input_data, output_data = training_samples()\n",
        "\n",
        "\n",
        "#Finding the average of words in review\n",
        "length = [len(i) for i in input_data]\n",
        "max_length=np.mean(length)\n"
      ],
      "metadata": {
        "id": "GQSO4ZV-wzjW"
      },
      "execution_count": 52,
      "outputs": []
    },
    {
      "cell_type": "code",
      "source": [
        "type(input_data)"
      ],
      "metadata": {
        "colab": {
          "base_uri": "https://localhost:8080/"
        },
        "id": "Lh69Wjkx6hxa",
        "outputId": "fb3da130-f016-4c30-d6c6-f9305dcb2fc9"
      },
      "execution_count": 57,
      "outputs": [
        {
          "output_type": "execute_result",
          "data": {
            "text/plain": [
              "pandas.core.series.Series"
            ]
          },
          "metadata": {},
          "execution_count": 57
        }
      ]
    },
    {
      "cell_type": "code",
      "source": [
        "print(dataset['review'])\n",
        "print(input_data)"
      ],
      "metadata": {
        "colab": {
          "base_uri": "https://localhost:8080/"
        },
        "id": "ITjavM_93SMr",
        "outputId": "5bac1a5f-c1cd-4f6b-9ef2-cbccc6b2efd0"
      },
      "execution_count": 34,
      "outputs": [
        {
          "output_type": "stream",
          "name": "stdout",
          "text": [
            "0        One of the other reviewers has mentioned that ...\n",
            "1        A wonderful little production. <br /><br />The...\n",
            "2        I thought this was a wonderful way to spend ti...\n",
            "3        Basically there's a family where a little boy ...\n",
            "4        Petter Mattei's \"Love in the Time of Money\" is...\n",
            "                               ...                        \n",
            "49995    I thought this movie did a down right good job...\n",
            "49996    Bad plot, bad dialogue, bad acting, idiotic di...\n",
            "49997    I am a Catholic taught in parochial elementary...\n",
            "49998    I'm going to have to disagree with the previou...\n",
            "49999    No one expects the Star Trek movies to be high...\n",
            "Name: review, Length: 50000, dtype: object\n",
            "0        [one, reviewers, mentioned, watching, 1, oz, e...\n",
            "1        [wonderful, little, production, br, br, filmin...\n",
            "2        [thought, wonderful, way, spend, time, hot, su...\n",
            "3        [basically, theres, family, little, boy, jake,...\n",
            "4        [petter, matteis, love, time, money, visually,...\n",
            "                               ...                        \n",
            "49995    [thought, movie, right, good, job, wasnt, crea...\n",
            "49996    [bad, plot, bad, dialogue, bad, acting, idioti...\n",
            "49997    [catholic, taught, parochial, elementary, scho...\n",
            "49998    [im, going, disagree, previous, comment, side,...\n",
            "49999    [one, expects, star, trek, movies, high, art, ...\n",
            "Name: review, Length: 50000, dtype: object\n"
          ]
        }
      ]
    },
    {
      "cell_type": "code",
      "source": [
        "#Exploring the data\n",
        "#Finding number of unique outputs\n",
        "Classes = np.unique(dataset['sentiment'])\n",
        "#Finding the maximum number of unique words\n",
        "Max_num_words = len(np.unique(dataset['review']))\n",
        "\n",
        "#printing observations\n",
        "print('Classes: ',Classes)\n",
        "print('Maximum number of unique words: ',Max_num_words)"
      ],
      "metadata": {
        "colab": {
          "base_uri": "https://localhost:8080/"
        },
        "id": "0yipaGDSwr2B",
        "outputId": "2166f521-5447-48d4-f5ab-7e9da44b6431"
      },
      "execution_count": 21,
      "outputs": [
        {
          "output_type": "stream",
          "name": "stdout",
          "text": [
            "Classes:  [0 1]\n",
            "Maximum number of unique words:  49582\n"
          ]
        }
      ]
    },
    {
      "cell_type": "code",
      "source": [
        "tokens= Tokenizer(lower=False)# Since the data is converted to lowercase before\n",
        "tokens.fit_on_texts(input_data)\n",
        "input_data = tokens.texts_to_sequences(input_data)\n",
        "\n",
        "input_data = pad_sequences(input_data,maxlen=127,padding='post',truncating='post')\n",
        "\n",
        "train_input,test_input,train_output,test_output=train_test_split(input_data,output_data,test_size=0.2)#test_input_size=0.2*input_data\n",
        "\n",
        "total_words=len(tokens.word_index) + 1 #word_index0 is reserved to distinguish between pad and unknown"
      ],
      "metadata": {
        "id": "cZSa4tAiwvSS"
      },
      "execution_count": 22,
      "outputs": []
    },
    {
      "cell_type": "code",
      "source": [
        "embed=32 # dimensions of embeddding\n",
        "LSTM_SIZE=64 #number of hidden layers\n",
        "model = Sequential()\n",
        "model.add(Embedding(total_words,embed,input_length=127))\n",
        "model.add(LSTM(LSTM_SIZE))\n",
        "model.add(Dense(1,activation='sigmoid'))#activation is sigmoid as output is either 0 or 1\n",
        "model.compile(optimizer='adam',loss='binary_crossentropy',metrics =['accuracy'])\n",
        "print(model.summary())"
      ],
      "metadata": {
        "colab": {
          "base_uri": "https://localhost:8080/"
        },
        "id": "sr4tza6rxiT1",
        "outputId": "abad7505-bc64-4759-e39d-dbf83661f20f"
      },
      "execution_count": 23,
      "outputs": [
        {
          "output_type": "stream",
          "name": "stdout",
          "text": [
            "Model: \"sequential\"\n",
            "_________________________________________________________________\n",
            " Layer (type)                Output Shape              Param #   \n",
            "=================================================================\n",
            " embedding (Embedding)       (None, 127, 32)           5809408   \n",
            "                                                                 \n",
            " lstm (LSTM)                 (None, 64)                24832     \n",
            "                                                                 \n",
            " dense (Dense)               (None, 1)                 65        \n",
            "                                                                 \n",
            "=================================================================\n",
            "Total params: 5834305 (22.26 MB)\n",
            "Trainable params: 5834305 (22.26 MB)\n",
            "Non-trainable params: 0 (0.00 Byte)\n",
            "_________________________________________________________________\n",
            "None\n"
          ]
        }
      ]
    },
    {
      "cell_type": "code",
      "source": [
        "#Using mini-batch learning method with batch_size 200 and 5 epochs\n",
        "#Adding a callback called checkpoint which saves the model if accuracy is increased from previous epoch\n",
        "checkpoint=ModelCheckpoint('sentiment/LSTM.h5',monitor='accuracy',save_best_only=True,verbose=2)\n",
        "model.fit(train_input,train_output,batch_size=200,epochs=5,callbacks=[checkpoint])"
      ],
      "metadata": {
        "colab": {
          "base_uri": "https://localhost:8080/"
        },
        "id": "p57z6fWjxoK2",
        "outputId": "ef1a5910-0a97-4551-a77c-67ee3cfbf375"
      },
      "execution_count": 24,
      "outputs": [
        {
          "output_type": "stream",
          "name": "stdout",
          "text": [
            "Epoch 1/5\n",
            "200/200 [==============================] - ETA: 0s - loss: 0.6743 - accuracy: 0.5600\n",
            "Epoch 1: accuracy improved from -inf to 0.55998, saving model to sentiment/LSTM.h5\n",
            "200/200 [==============================] - 70s 336ms/step - loss: 0.6743 - accuracy: 0.5600\n",
            "Epoch 2/5\n"
          ]
        },
        {
          "output_type": "stream",
          "name": "stderr",
          "text": [
            "/usr/local/lib/python3.10/dist-packages/keras/src/engine/training.py:3000: UserWarning: You are saving your model as an HDF5 file via `model.save()`. This file format is considered legacy. We recommend using instead the native Keras format, e.g. `model.save('my_model.keras')`.\n",
            "  saving_api.save_model(\n"
          ]
        },
        {
          "output_type": "stream",
          "name": "stdout",
          "text": [
            "200/200 [==============================] - ETA: 0s - loss: 0.5450 - accuracy: 0.7069\n",
            "Epoch 2: accuracy improved from 0.55998 to 0.70692, saving model to sentiment/LSTM.h5\n",
            "200/200 [==============================] - 64s 320ms/step - loss: 0.5450 - accuracy: 0.7069\n",
            "Epoch 3/5\n",
            "200/200 [==============================] - ETA: 0s - loss: 0.2357 - accuracy: 0.9132\n",
            "Epoch 3: accuracy improved from 0.70692 to 0.91322, saving model to sentiment/LSTM.h5\n",
            "200/200 [==============================] - 64s 321ms/step - loss: 0.2357 - accuracy: 0.9132\n",
            "Epoch 4/5\n",
            "200/200 [==============================] - ETA: 0s - loss: 0.1130 - accuracy: 0.9650\n",
            "Epoch 4: accuracy improved from 0.91322 to 0.96497, saving model to sentiment/LSTM.h5\n",
            "200/200 [==============================] - 64s 318ms/step - loss: 0.1130 - accuracy: 0.9650\n",
            "Epoch 5/5\n",
            "200/200 [==============================] - ETA: 0s - loss: 0.0586 - accuracy: 0.9855\n",
            "Epoch 5: accuracy improved from 0.96497 to 0.98548, saving model to sentiment/LSTM.h5\n",
            "200/200 [==============================] - 63s 317ms/step - loss: 0.0586 - accuracy: 0.9855\n"
          ]
        },
        {
          "output_type": "execute_result",
          "data": {
            "text/plain": [
              "<keras.src.callbacks.History at 0x7e256b9374c0>"
            ]
          },
          "metadata": {},
          "execution_count": 24
        }
      ]
    },
    {
      "cell_type": "code",
      "source": [
        "pred = model.predict(test_input)#predicting the labels\n",
        "true=0\n",
        "correct=0\n",
        "ptrue=0\n",
        "for i,y in enumerate(test_output):\n",
        "  if pred[i]>0.5:#classifying predicted label as positive if the confidence value is greater than 0.5 and negative otherwise\n",
        "    ptrue+=1\n",
        "  if y==1:\n",
        "    true+=1\n",
        "  if ((pred[i]>0.5 and  y==1) or (pred[i]<0.5 and y==0)):\n",
        "    correct+=1\n",
        "\n",
        "print('Number of positive sentiment predictions:',ptrue)\n",
        "print('Real positive sentiment : ',true)\n",
        "print('Number of negative sentiment predictions:',len(test_input)-ptrue)\n",
        "print('Real negative sentiment : ',len(test_input)-true)\n",
        "print('Accuracy of the model is :',(correct/len(test_input))*100)"
      ],
      "metadata": {
        "colab": {
          "base_uri": "https://localhost:8080/"
        },
        "id": "y3GufKV2xscG",
        "outputId": "daedc00f-ad1d-455a-ffdd-fc48455a38b0"
      },
      "execution_count": 25,
      "outputs": [
        {
          "output_type": "stream",
          "name": "stdout",
          "text": [
            "313/313 [==============================] - 8s 23ms/step\n",
            "Number of positive sentiment predictions: 5048\n",
            "Real positive sentiment :  4938\n",
            "Number of negative sentiment predictions: 4952\n",
            "Real negative sentiment :  5062\n",
            "Accuracy of the model is : 86.58\n"
          ]
        }
      ]
    }
  ]
}